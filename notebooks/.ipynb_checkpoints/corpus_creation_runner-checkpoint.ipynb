{
 "cells": [
  {
   "cell_type": "code",
   "execution_count": null,
   "id": "f81b30b1",
   "metadata": {
    "colab": {
     "base_uri": "https://localhost:8080/"
    },
    "id": "f81b30b1",
    "outputId": "9a8d8ae4-f4ef-4882-d68e-d6eed965eb39"
   },
   "outputs": [],
   "source": [
    "import wikipedia\n",
    "import re\n",
    "import pywikibot\n",
    "import requests\n",
    "from bs4 import BeautifulSoup\n",
    "import pandas as pd\n",
    "from tqdm import tqdm\n",
    "tqdm.pandas()\n",
    "import seaborn as sns\n",
    "import matplotlib.pyplot as plt\n",
    "from urllib.request import urlopen\n",
    "import json\n",
    "import os\n",
    "import sys\n",
    "import datetime\n",
    "sys.path.append(os.path.dirname(os.getcwd()))\n",
    "from corpus_creation import *\n",
    "from corpus_creation_utils import *"
   ]
  },
  {
   "cell_type": "code",
   "execution_count": null,
   "id": "fd8bcd14",
   "metadata": {
    "id": "fd8bcd14"
   },
   "outputs": [],
   "source": [
    "wikipedia.set_lang(\"en\")  #We make our research in english"
   ]
  },
  {
   "cell_type": "markdown",
   "id": "10bf59d9",
   "metadata": {},
   "source": [
    "## Section 1 - create corpus (see section 3 to load existing file instead)"
   ]
  },
  {
   "cell_type": "code",
   "execution_count": null,
   "id": "9aa43c8a",
   "metadata": {},
   "outputs": [],
   "source": [
    "SEARCH_TERM = \"circadian clock\"\n",
    "SECONDARY_TERM = None\n",
    "SECONDARY_TERM = SECONDARY_TERM or SEARCH_TERM"
   ]
  },
  {
   "cell_type": "code",
   "execution_count": null,
   "id": "5cdc44c6",
   "metadata": {
    "id": "a5b7fa6c",
    "outputId": "8714b8ff-53a0-4833-88eb-cfe1694a77f3"
   },
   "outputs": [],
   "source": [
    "%%time\n",
    "search_list = corpus_selection(SEARCH_TERM,5000, SECONDARY_TERM)\n"
   ]
  },
  {
   "cell_type": "code",
   "execution_count": null,
   "id": "9840efad",
   "metadata": {},
   "outputs": [],
   "source": [
    "print(len(search_list),search_list)"
   ]
  },
  {
   "cell_type": "markdown",
   "id": "677d2a3a",
   "metadata": {},
   "source": [
    "### Get the information on the protected articles of the corpus"
   ]
  },
  {
   "cell_type": "code",
   "execution_count": null,
   "id": "c60d33ab",
   "metadata": {},
   "outputs": [],
   "source": [
    "protection_status_evolution = get_protection_status(search_list)"
   ]
  },
  {
   "cell_type": "markdown",
   "id": "b4e89545",
   "metadata": {},
   "source": [
    "### Creation of the dataframe"
   ]
  },
  {
   "cell_type": "code",
   "execution_count": null,
   "id": "9b9c25b2",
   "metadata": {
    "id": "9b9c25b2"
   },
   "outputs": [],
   "source": [
    "df=crea_dataframe(search_list, SEARCH_TERM)\n",
    "df.head()"
   ]
  },
  {
   "cell_type": "markdown",
   "id": "6807ffed",
   "metadata": {},
   "source": [
    "### Get the citations"
   ]
  },
  {
   "cell_type": "code",
   "execution_count": null,
   "id": "db11f1ac",
   "metadata": {},
   "outputs": [],
   "source": [
    "df = parse_df_citations(df)\n",
    "logger.info(f'mean scietificness score {df[\"nbjournaldetected\"].sum()/df[\"nb_journal_citations\"].sum()}')\n"
   ]
  },
  {
   "cell_type": "code",
   "execution_count": null,
   "id": "2521a551",
   "metadata": {},
   "outputs": [],
   "source": [
    "\n",
    "urls = get_modified_urls(df[\"Name only\"]) #make a list will all titles\n",
    "df = add_pageinfo(df, urls)\n",
    "df = clean_df(df)\n"
   ]
  },
  {
   "cell_type": "markdown",
   "id": "95d89080",
   "metadata": {},
   "source": [
    "## 2. Save csv file"
   ]
  },
  {
   "cell_type": "code",
   "execution_count": null,
   "id": "a8b74c38",
   "metadata": {},
   "outputs": [],
   "source": [
    "fileName = 'wikiscore_' + SEARCH_TERM + '_' + str(datetime.datetime.now())[:10]\n",
    "df.to_csv(os.path.join(os.path.dirname(os.getcwd()), 'outputs', fileName + '.csv'))\n"
   ]
  },
  {
   "cell_type": "markdown",
   "id": "77a53933",
   "metadata": {},
   "source": [
    "## 3. load existing file instead"
   ]
  },
  {
   "cell_type": "code",
   "execution_count": null,
   "id": "b252c05a",
   "metadata": {},
   "outputs": [],
   "source": [
    "load_existing=False\n",
    "if load_existing:\n",
    "    df=pd.read_csv('/home/ro/Documents/code/wiki-score/outputs/covid-19.csv')"
   ]
  },
  {
   "cell_type": "markdown",
   "id": "9ae2a4cc",
   "metadata": {},
   "source": [
    "## 4. Plot some stats"
   ]
  },
  {
   "cell_type": "markdown",
   "id": "d0af2e7e",
   "metadata": {},
   "source": [
    "### to-do: remove duplicate plot functions definitions. "
   ]
  },
  {
   "cell_type": "code",
   "execution_count": null,
   "id": "5cd6d652",
   "metadata": {},
   "outputs": [],
   "source": [
    "def plot_site_most_cited(d,top : int, title : str):\n",
    "    '''\n",
    "    plot the most cited sites\n",
    "    \n",
    "    param d: a column of a dataframe containing the text of the type of citation for example .org or only scientific journal\n",
    "    param minimum: the minimum number of times an site is cited to appear in our plot\n",
    "    '''\n",
    "    \n",
    "    sns.set_style(\"white\")\n",
    "    d=d[0:top]\n",
    "    palette ={\"org\" : \"#8da0cb\",\n",
    "             \"com\" : \"#fc8d62\" ,\n",
    "             \"IPCC\" : \"#a6d854\",\n",
    "             \"gov\" : \"#e78ac3\",\n",
    "             \"journal\" : \"#66c2a5\"}\n",
    "    \n",
    "    ax=sns.barplot(x=\"number of times cited\", y=\"name of site\", hue=\"type\", palette=palette, data=d,dodge=False,orient = 'h')\n",
    "    #sns.despine(left=True, bottom=True)\n",
    "    sns.move_legend(ax,\"lower right\")\n",
    "    for i in ax.containers:\n",
    "        ax.bar_label(i,)\n",
    "    #sns.set(font_scale=3)\n",
    "    plt.legend(loc = 2, bbox_to_anchor = (1,0.5))\n",
    "    ax.set(xlabel='Number of references',ylabel='',title=title)\n",
    "    #sns.set_context(\"paper\")\n",
    "    sns.set_context(\"poster\")\n",
    "    sns.set(rc={\"figure.figsize\":(12, 11)}) #width=3, #height=4\n",
    "    sfig = ax.get_figure()\n",
    "    sfig.savefig('most cited journal.svg')\n",
    "    #plt.savefig('most cited journal.png')"
   ]
  },
  {
   "cell_type": "code",
   "execution_count": null,
   "id": "d0bc33c2",
   "metadata": {
    "scrolled": false
   },
   "outputs": [],
   "source": [
    "#dftot,dico=sortcitation(df.loc[:,\"citationtext_total\"],df)\n",
    "#plot_site_most_cited(dftot,0)"
   ]
  },
  {
   "cell_type": "code",
   "execution_count": null,
   "id": "9201c422",
   "metadata": {},
   "outputs": [],
   "source": [
    "#An example of the plot for .org citation\n",
    "dorg,dico=sortcitation(df.loc[:,\"citationorgtext\"],\"org\")    \n",
    "plot_site_most_cited(dorg,10,\".org site the most cited\")"
   ]
  },
  {
   "cell_type": "code",
   "execution_count": null,
   "id": "26e5755f",
   "metadata": {},
   "outputs": [],
   "source": [
    "dfgov,j=sortcitation(df.loc[:,\"citationgovtext\"],\"gov\")\n",
    "plot_site_most_cited(dfgov,10,\".gov site the most cited\")"
   ]
  },
  {
   "cell_type": "code",
   "execution_count": null,
   "id": "4c048176",
   "metadata": {},
   "outputs": [],
   "source": [
    "dfsci,j=sortcitation(df.loc[:,\"journal\"],\"journal\")\n",
    "dfsci.loc[dfsci[\"name of site\"]==\"bioscience\",\"number of times cited\"]+=2\n",
    "dfsci.sort_values(by=['number of times cited'], inplace=True, ascending=False)\n",
    "plot_site_most_cited(dfsci,30, \"journal the most cited\")"
   ]
  },
  {
   "cell_type": "code",
   "execution_count": null,
   "id": "68480e60",
   "metadata": {
    "scrolled": false
   },
   "outputs": [],
   "source": [
    "dcom,bl=sortcitation(df.loc[:,\"citationcomtext\"],\"com\")\n",
    "plot_site_most_cited(dcom,10, \".com the most cited\")"
   ]
  },
  {
   "cell_type": "code",
   "execution_count": null,
   "id": "08785528",
   "metadata": {},
   "outputs": [],
   "source": [
    "dIg={\"name of site\": [\"IPCC\",\"theguardian.com\",\"biosciences\"], \"number of times cited\":[df.loc[:,\"citation IPCC\"].sum(), df.loc[:,\"citationguardian\"].sum(),2], \"type\": [\"IPCC\",\"com\",\"journal\"]}\n",
    "dIg = pd.DataFrame.from_dict(dIg)\n",
    "big_df = pd.concat([dorg, dfgov,dcom,dfsci,dIg], ignore_index=True)\n",
    "big_df.sort_values(by=['number of times cited'], inplace=True, ascending=False)\n",
    "plot_site_most_cited(big_df,10,\"Top 10 references of Effects of climate change\")"
   ]
  },
  {
   "cell_type": "markdown",
   "id": "5f2e330d",
   "metadata": {},
   "source": [
    "#### plot of the timeline"
   ]
  },
  {
   "cell_type": "code",
   "execution_count": null,
   "id": "4e778e9a",
   "metadata": {
    "id": "4e778e9a",
    "outputId": "f6128779-2bf8-47c6-cc89-bedb437bab36",
    "scrolled": true
   },
   "outputs": [],
   "source": [
    "fig = plt.figure(0,figsize=(20,15))\n",
    "plothist=df[\"Year\"].value_counts().sort_index().plot(kind=\"bar\")\n",
    "fig.savefig('timeline.jpg', bbox_inches='tight', dpi=150)\n",
    "plt.xlabel('date of birth',fontsize = 20) \n",
    "plt.ylabel('number of article',fontsize = 20) \n",
    "plt.title(\"number of article in function of their year of birth\",fontsize = 30)\n",
    "plt.show()"
   ]
  }
 ],
 "metadata": {
  "colab": {
   "collapsed_sections": [],
   "name": "Copie de V2_4Creation_data_csv_w__corpus_selection_complete.ipynb",
   "provenance": []
  },
  "kernelspec": {
   "display_name": "Python 3 (ipykernel)",
   "language": "python",
   "name": "python3"
  },
  "language_info": {
   "codemirror_mode": {
    "name": "ipython",
    "version": 3
   },
   "file_extension": ".py",
   "mimetype": "text/x-python",
   "name": "python",
   "nbconvert_exporter": "python",
   "pygments_lexer": "ipython3",
   "version": "3.8.10"
  }
 },
 "nbformat": 4,
 "nbformat_minor": 5
}
